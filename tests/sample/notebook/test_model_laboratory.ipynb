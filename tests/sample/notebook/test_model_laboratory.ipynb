{
 "cells": [
  {
   "cell_type": "markdown",
   "id": "2ae34a31",
   "metadata": {},
   "source": [
    "# Model Comparison\n",
    "\n",
    "Constructing your language model application will likely involved choosing between many different options of prompts, models, and even chains to use. When doing so, you will want to compare these different options on different inputs in an easy, flexible, and intuitive way. \n",
    "\n",
    "LangChain provides the concept of a ModelLaboratory to test out and try different models."
   ]
  },
  {
   "cell_type": "code",
   "execution_count": 1,
   "id": "d645c060",
   "metadata": {
    "ExecuteTime": {
     "end_time": "2023-06-17T08:50:44.387438600Z",
     "start_time": "2023-06-17T08:50:40.637983800Z"
    }
   },
   "outputs": [],
   "source": [
    "from langchain import LLMChain, OpenAI, Cohere, HuggingFaceHub, PromptTemplate\n",
    "from langchain.model_laboratory import ModelLaboratory"
   ]
  },
  {
   "cell_type": "code",
   "execution_count": 2,
   "id": "8853e00f",
   "metadata": {
    "ExecuteTime": {
     "end_time": "2023-06-17T08:50:57.630497600Z",
     "start_time": "2023-06-17T08:50:56.543378900Z"
    }
   },
   "outputs": [
    {
     "ename": "ValidationError",
     "evalue": "1 validation error for Cohere\n__root__\n  Did not find cohere_api_key, please add an environment variable `COHERE_API_KEY` which contains it, or pass  `cohere_api_key` as a named parameter. (type=value_error)",
     "output_type": "error",
     "traceback": [
      "\u001B[1;31m---------------------------------------------------------------------------\u001B[0m",
      "\u001B[1;31mValidationError\u001B[0m                           Traceback (most recent call last)",
      "Cell \u001B[1;32mIn[2], line 3\u001B[0m\n\u001B[0;32m      1\u001B[0m llms \u001B[38;5;241m=\u001B[39m [\n\u001B[0;32m      2\u001B[0m     OpenAI(temperature\u001B[38;5;241m=\u001B[39m\u001B[38;5;241m0\u001B[39m), \n\u001B[1;32m----> 3\u001B[0m     \u001B[43mCohere\u001B[49m\u001B[43m(\u001B[49m\u001B[43mmodel\u001B[49m\u001B[38;5;241;43m=\u001B[39;49m\u001B[38;5;124;43m\"\u001B[39;49m\u001B[38;5;124;43mcommand-xlarge-20221108\u001B[39;49m\u001B[38;5;124;43m\"\u001B[39;49m\u001B[43m,\u001B[49m\u001B[43m \u001B[49m\u001B[43mmax_tokens\u001B[49m\u001B[38;5;241;43m=\u001B[39;49m\u001B[38;5;241;43m20\u001B[39;49m\u001B[43m,\u001B[49m\u001B[43m \u001B[49m\u001B[43mtemperature\u001B[49m\u001B[38;5;241;43m=\u001B[39;49m\u001B[38;5;241;43m0\u001B[39;49m\u001B[43m)\u001B[49m, \n\u001B[0;32m      4\u001B[0m     HuggingFaceHub(repo_id\u001B[38;5;241m=\u001B[39m\u001B[38;5;124m\"\u001B[39m\u001B[38;5;124mgoogle/flan-t5-xl\u001B[39m\u001B[38;5;124m\"\u001B[39m, model_kwargs\u001B[38;5;241m=\u001B[39m{\u001B[38;5;124m\"\u001B[39m\u001B[38;5;124mtemperature\u001B[39m\u001B[38;5;124m\"\u001B[39m:\u001B[38;5;241m1\u001B[39m})\n\u001B[0;32m      5\u001B[0m ]\n",
      "File \u001B[1;32mC:\\ProgramData\\anaconda3\\envs\\3-10\\lib\\site-packages\\pydantic\\main.py:341\u001B[0m, in \u001B[0;36mpydantic.main.BaseModel.__init__\u001B[1;34m()\u001B[0m\n",
      "\u001B[1;31mValidationError\u001B[0m: 1 validation error for Cohere\n__root__\n  Did not find cohere_api_key, please add an environment variable `COHERE_API_KEY` which contains it, or pass  `cohere_api_key` as a named parameter. (type=value_error)"
     ]
    }
   ],
   "source": [
    "llms = [\n",
    "    OpenAI(temperature=0), \n",
    "    Cohere(model=\"command-xlarge-20221108\", max_tokens=20, temperature=0), \n",
    "    HuggingFaceHub(repo_id=\"google/flan-t5-xl\", model_kwargs={\"temperature\":1})\n",
    "]"
   ]
  },
  {
   "cell_type": "code",
   "execution_count": null,
   "id": "4215c689",
   "metadata": {},
   "outputs": [],
   "source": [
    "model_lab = ModelLaboratory.from_llms(llms)"
   ]
  },
  {
   "cell_type": "code",
   "execution_count": null,
   "id": "63a66fc1",
   "metadata": {},
   "outputs": [],
   "source": [
    "model_lab.compare(\"What color is a flamingo?\")"
   ]
  },
  {
   "cell_type": "code",
   "execution_count": null,
   "id": "c7adce57",
   "metadata": {},
   "outputs": [],
   "source": [
    "prompt = PromptTemplate(template=\"What is the capital of {state}?\", input_variables=[\"state\"])\n",
    "model_lab_with_prompt = ModelLaboratory.from_llms(llms, prompt=prompt)"
   ]
  },
  {
   "cell_type": "code",
   "execution_count": null,
   "id": "847d9cfb",
   "metadata": {},
   "outputs": [],
   "source": [
    "model_lab_with_prompt.compare(\"New York\")"
   ]
  },
  {
   "cell_type": "code",
   "execution_count": null,
   "id": "c67a766a",
   "metadata": {},
   "outputs": [],
   "source": [
    "from langchain import SelfAskWithSearchChain, SerpAPIWrapper\n",
    "\n",
    "open_ai_llm = OpenAI(temperature=0)\n",
    "search = SerpAPIWrapper()\n",
    "self_ask_with_search_openai = SelfAskWithSearchChain(llm=open_ai_llm, search_chain=search, verbose=True)\n",
    "\n",
    "cohere_llm = Cohere(temperature=0, model=\"command-xlarge-20221108\")\n",
    "search = SerpAPIWrapper()\n",
    "self_ask_with_search_cohere = SelfAskWithSearchChain(llm=cohere_llm, search_chain=search, verbose=True)"
   ]
  },
  {
   "cell_type": "code",
   "execution_count": null,
   "id": "4b23c3dc",
   "metadata": {},
   "outputs": [],
   "source": [
    "chains = [self_ask_with_search_openai, self_ask_with_search_cohere]\n",
    "names = [str(open_ai_llm), str(cohere_llm)]"
   ]
  },
  {
   "cell_type": "code",
   "execution_count": null,
   "id": "1d76077d",
   "metadata": {},
   "outputs": [],
   "source": [
    "model_lab = ModelLaboratory(chains, names=names)"
   ]
  },
  {
   "cell_type": "code",
   "execution_count": null,
   "id": "b943e0fc",
   "metadata": {},
   "outputs": [],
   "source": [
    "model_lab.compare(\"What is the hometown of the reigning men's U.S. Open champion?\")"
   ]
  },
  {
   "cell_type": "code",
   "execution_count": null,
   "id": "b8ee0637",
   "metadata": {},
   "outputs": [],
   "source": []
  }
 ],
 "metadata": {
  "kernelspec": {
   "name": "python3",
   "language": "python",
   "display_name": "Python 3 (ipykernel)"
  }
 },
 "nbformat": 4,
 "nbformat_minor": 5
}
